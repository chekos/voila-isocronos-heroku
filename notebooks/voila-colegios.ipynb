{
 "cells": [
  {
   "cell_type": "code",
   "execution_count": 1,
   "metadata": {},
   "outputs": [],
   "source": [
    "import pandas as pd\n",
    "from pathlib import Path\n",
    "import geopandas as gpd\n",
    "import matplotlib.pyplot as plt\n",
    "import networkx as nx\n",
    "import osmnx as ox\n",
    "from descartes import PolygonPatch\n",
    "from shapely.geometry import Point, LineString, Polygon\n",
    "%matplotlib inline"
   ]
  },
  {
   "cell_type": "code",
   "execution_count": 2,
   "metadata": {},
   "outputs": [],
   "source": [
    "DATOS_BRUTOS = Path(\"../datos/brutos/\")\n",
    "DATOS_INTERINOS = Path(\"../datos/interinos/\")\n",
    "DATOS_PROCESADOS = Path(\"../datos/procesados/\")\n",
    "DATOS_EXTERNOS = Path(\"../datos/externos/\")"
   ]
  },
  {
   "cell_type": "code",
   "execution_count": 3,
   "metadata": {},
   "outputs": [],
   "source": [
    "datos = pd.read_csv(DATOS_PROCESADOS / 'base_de_datos-05-jul-19.csv', encoding = 'utf-8',)"
   ]
  },
  {
   "cell_type": "code",
   "execution_count": 4,
   "metadata": {},
   "outputs": [],
   "source": [
    "def filtra_datos(nombre):\n",
    "    _datos = datos[datos['Nombre'] == nombre]\n",
    "    return _datos"
   ]
  },
  {
   "cell_type": "code",
   "execution_count": 5,
   "metadata": {},
   "outputs": [],
   "source": [
    "lista_de_nombres = list(datos['Nombre'].values)"
   ]
  },
  {
   "cell_type": "code",
   "execution_count": 6,
   "metadata": {},
   "outputs": [],
   "source": [
    "from ipywidgets import Dropdown, interact\n",
    "from IPython.display import clear_output"
   ]
  },
  {
   "cell_type": "code",
   "execution_count": 7,
   "metadata": {},
   "outputs": [],
   "source": [
    "def make_iso_polys(G, edge_buff=25, node_buff=50, infill=False, trip_times = [], center_node = None):\n",
    "    isochrone_polys = []\n",
    "    for trip_time in sorted(trip_times, reverse=True):\n",
    "        subgraph = nx.ego_graph(G, center_node, radius=trip_time, distance='time')\n",
    "\n",
    "        node_points = [Point((data['x'], data['y'])) for node, data in subgraph.nodes(data=True)]\n",
    "        nodes_gdf = gpd.GeoDataFrame({'id': subgraph.nodes()}, geometry=node_points)\n",
    "        nodes_gdf = nodes_gdf.set_index('id')\n",
    "\n",
    "        edge_lines = []\n",
    "        for n_fr, n_to in subgraph.edges():\n",
    "            f = nodes_gdf.loc[n_fr].geometry\n",
    "            t = nodes_gdf.loc[n_to].geometry\n",
    "            edge_lines.append(LineString([f,t]))\n",
    "\n",
    "        n = nodes_gdf.buffer(node_buff).geometry\n",
    "        e = gpd.GeoSeries(edge_lines).buffer(edge_buff).geometry\n",
    "        all_gs = list(n) + list(e)\n",
    "        new_iso = gpd.GeoSeries(all_gs).unary_union\n",
    "        \n",
    "        # try to fill in surrounded areas so shapes will appear solid and blocks without white space inside them\n",
    "        if infill:\n",
    "            new_iso = Polygon(new_iso.exterior)\n",
    "        isochrone_polys.append(new_iso)\n",
    "    return isochrone_polys"
   ]
  },
  {
   "cell_type": "code",
   "execution_count": 8,
   "metadata": {},
   "outputs": [],
   "source": [
    "def visualiza_isocronos(\n",
    "    nombre\n",
    "):\n",
    "    clear_output()\n",
    "    df = filtra_datos(nombre = nombre)\n",
    "    \n",
    "    direccion = df['Dirección OSMNx'].values[0]\n",
    "    ciudad = df['Ciudad'].values[0]\n",
    "    \n",
    "    network_type = 'walk'\n",
    "    trip_times = [5, 10, 15, 20, 25] #in minutes\n",
    "    travel_speed = 4.5 #walking speed in km/hour\n",
    "    # download the street network\n",
    "    try:\n",
    "        G = ox.graph_from_address(direccion, distance = 3000, network_type=network_type)\n",
    "    except:\n",
    "        print(\"No encontramos esa dirección pero aquí esta un isocrono de la ciudad en la que se encuentra esa institución.\")\n",
    "        G = ox.graph_from_place(f\"{ciudad}, CA\", network_type = \"walk\")\n",
    "\n",
    "    # find the centermost node and then project the graph to UTM\n",
    "    gdf_nodes = ox.graph_to_gdfs(G, edges=False)\n",
    "    x, y = gdf_nodes['geometry'].unary_union.centroid.xy\n",
    "    center_node = ox.get_nearest_node(G, (y[0], x[0]))\n",
    "    G = ox.project_graph(G)\n",
    "    \n",
    "    # add an edge attribute for time in minutes required to traverse each edge\n",
    "    meters_per_minute = travel_speed * 1000 / 60 #km per hour to m per minute\n",
    "    for u, v, k, data in G.edges(data=True, keys=True):\n",
    "        data['time'] = data['length'] / meters_per_minute\n",
    "        \n",
    "    # get one color for each isochrone\n",
    "    iso_colors = ox.get_colors(n=len(trip_times), cmap='Reds', start=0.3, return_hex=True)\n",
    "    \n",
    "    isochrone_polys = make_iso_polys(G, edge_buff=25, node_buff=0, infill=True, trip_times=trip_times, center_node = center_node)\n",
    "    fig, ax = ox.plot_graph(G, fig_width=6, show=False, close=False, edge_color='k', edge_alpha=0.2, node_color='none')\n",
    "    for polygon, fc in zip(isochrone_polys, iso_colors):\n",
    "        patch = PolygonPatch(polygon, fc=fc, ec='none', alpha=0.6, zorder=-1)\n",
    "        ax.add_patch(patch)\n",
    "        \n",
    "    plt.tight_layout()\n",
    "    plt.suptitle(f\"{nombre} en {ciudad}, California, EEUU\", horizontalalignment='left', fontsize=16, y=1.05, x=0.04)\n",
    "    plt.title(\"30 minutos caminando\", loc='left', fontdict={'fontsize':12}, x=0.02);\n",
    "    \n",
    "    plt.show();"
   ]
  },
  {
   "cell_type": "code",
   "execution_count": 9,
   "metadata": {},
   "outputs": [],
   "source": [
    "# visualiza_isocronos('University of California-Davis')"
   ]
  },
  {
   "cell_type": "markdown",
   "metadata": {},
   "source": [
    "# Mapas isócronos utilizando `OSMNx`, `ipywidgets` y `voilà`"
   ]
  },
  {
   "cell_type": "markdown",
   "metadata": {},
   "source": [
    "<dl>\n",
    "  <dt>isócrono, na.</dt>\n",
    "  <dd>\n",
    "      <i>Del gr. ἰσόχρονος isóchronos 'de igual duración'.</i><br>\n",
    "    1. adj. Fís. Dicho de dos o más movimientos: Que se hacen en tiempos de igual duración.\n",
    "  </dd>\n",
    "</dl>"
   ]
  },
  {
   "cell_type": "markdown",
   "metadata": {},
   "source": [
    "Para explorar el concepto de mapas isócronos decidí utilizar datos del _Integrated Postsecondary Education Data System_ (IPEDS) con los que estoy familiarizado por mi trabajo. \n",
    "\n",
    "Tomé datos de las universidades públicas de California y estoy visualizando que tan lejos alguien puede llegar caminando por 30 minutos. Si algún estudiante que no tiene acceso a un automóvil estuviera pensando en mudarse más cerca de su universidad y no quiere caminar más de 30 minutos, esto nos da una idea más o menos de donde podría vivir. \n",
    "\n",
    "Esto es un prototipo o _prueba de concepto_. Así como escogí universidades públicas de California, podríamos escoger otros lugares en el mundo. Estos mapas son creados con [`OSMNx` de Geoff Boeing](https://osmnx.readthedocs.io/en/stable/index.html) la cual utiliza _Open Street Map_ así que en teoría podríamos buscar direcciones en muchos países (no sólo EEUU). \n",
    "\n",
    "Teniendo este prototipo ahora solo es cuestión de usar una base de datos diferente si quisieramos explorar, por ejemplo, escuelas primarias en Perú o hospitales en Colombia o restaurantes en Chile. "
   ]
  },
  {
   "cell_type": "code",
   "execution_count": 10,
   "metadata": {},
   "outputs": [
    {
     "data": {
      "application/vnd.jupyter.widget-view+json": {
       "model_id": "7ab2caab88004416b6f647a5251c7c6f",
       "version_major": 2,
       "version_minor": 0
      },
      "text/plain": [
       "interactive(children=(Dropdown(description='Institución', options=('Allan Hancock College', 'American River Co…"
      ]
     },
     "metadata": {},
     "output_type": "display_data"
    }
   ],
   "source": [
    "interact(visualiza_isocronos, nombre = Dropdown(options = lista_de_nombres, description = \"Institución\", value=\"College of the Siskiyous\"));"
   ]
  },
  {
   "cell_type": "markdown",
   "metadata": {},
   "source": [
    "Estos son creados utilizando `matplotlib` ya que `OSMNx` utiliza entre otros paquetes `NetworkX` y `GeoPandas` para crear estos gráficos.\n",
    "\n",
    "\n",
    "¿Qué te parece voila? [Mandanos un tuit a @tacosdedatos](https://twitter.com/share?text=Obvio+que+estuvo+super+el+blog+%40tacosdedatos+%F0%9F%8C%AE) o un correo a [✉️ sugerencias@tacosdedatos.com](mailto:sugerencias@tacosdedatos.com?subject=Sugerencia&body=Hola-holaaa)."
   ]
  }
 ],
 "metadata": {
  "kernelspec": {
   "display_name": "Python 3",
   "language": "python",
   "name": "python3"
  },
  "language_info": {
   "codemirror_mode": {
    "name": "ipython",
    "version": 3
   },
   "file_extension": ".py",
   "mimetype": "text/x-python",
   "name": "python",
   "nbconvert_exporter": "python",
   "pygments_lexer": "ipython3",
   "version": "3.7.3"
  }
 },
 "nbformat": 4,
 "nbformat_minor": 4
}
